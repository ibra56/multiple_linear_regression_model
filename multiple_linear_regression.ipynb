import pandas as pd
import numpy as np
import matplotlib.pyplot as plt

df = pd.read_csv('50_Startups.csv')
df.head()

# Handle Categorical data
states = pd.get_dummies(df['State'],drop_first=True)

# Dropping extra columns
df = df.drop(['State'],axis=1)


# Concatenation of independent variables and new categorical variables
df = pd.concat([df,states],axis=1)
df.head()

# Dividing dataset into independent and dependent variables
X = df.drop(['Profit'],axis=1)
y = df['Profit']

#Splitting dataset into training and testing set
from sklearn.model_selection import train_test_split
X_train,X_test,y_train,y_test = train_test_split(X,y,test_size=0.3,random_state=42)

# Training the model
from sklearn.linear_model import LinearRegression
regressor = LinearRegression()
regressor.fit(X_train,y_train)

# Predicting the test set results
y_pred = regressor.predict(X_test)
y_pred

# Calculating the R squared value
from sklearn.metrics import r2_score
score = r2_score(y_test,y_pred)
print("r2 score is ", score)

#  print the mean squared error
from sklearn.metrics import mean_squared_error
print("mean squared error is ", mean_squared_error(y_test,y_pred))

# print the mean absolute error
from sklearn.metrics import mean_absolute_error
print("mean absolute error is ", mean_absolute_error(y_test,y_pred))

# print the root mean squared error
from sklearn.metrics import mean_squared_error
print("root mean squared error is ", np.sqrt(mean_squared_error(y_test,y_pred)))


# plotting the graph
plt.scatter(y_test,y_pred)
plt.xlabel("Actual Profit")
plt.ylabel("Predicted Profit")
plt.title("Actual Profit vs Predicted Profit")
plt.show()

